{
   "cells": [{
         "cell_type": "code",
         "execution_count": 2,
         "metadata": {},
         "outputs": [],
         "source": [
            "import numpy\n",
            "import sympy"
         ]
      },
      {
         "cell_type": "code",
         "execution_count": 3,
         "metadata": {},
         "outputs": [],
         "source": [
            "omega_x, omega_y, omega_z = sympy.symbols('omega_x omega_y omega_z')\n",
            "c_x, c_y, c_z = sympy.symbols('c_x c_y c_z')\n",
            "x, y, z, t = sympy.symbols('x y z t')\n",
            "\n",
            "def deg2rad(deg):\n",
            "    return deg * sympy.pi / 180"
         ]
      },
      {
         "cell_type": "markdown",
         "metadata": {},
         "source": [
            "$$\n",
            "\\begin{bmatrix}\n",
            "\\Delta{x} \\\\ \\Delta{y} \\\\ \\Delta{z}\n",
            "\\end{bmatrix}\n",
            "=\n",
            "R_x(\\omega_x t) R_y(\\omega_y t) R_z(\\omega_z t)\n",
            "\\left(\n",
            "\\begin{bmatrix}\n",
            "x \\\\ y \\\\ z\n",
            "\\end{bmatrix}\n",
            "-\n",
            "\\begin{bmatrix}\n",
            "c_x \\\\ c_y \\\\ c_z\n",
            "\\end{bmatrix}\n",
            "\\right)\n",
            "+\n",
            "\\begin{bmatrix}\n",
            "c_x \\\\ c_y \\\\ c_z\n",
            "\\end{bmatrix}\n",
            "-\n",
            "\\begin{bmatrix}\n",
            "x \\\\ y \\\\ z\n",
            "\\end{bmatrix}\n",
            "$$"
         ]
      },
      {
         "cell_type": "code",
         "execution_count": 4,
         "metadata": {},
         "outputs": [{
            "data": {
               "text/latex": [
                  "$\\displaystyle \\left[\\begin{matrix}c_{x} - x + \\left(- c_{x} + x\\right) \\cos{\\left(\\omega_{y} t \\right)} \\cos{\\left(\\omega_{z} t \\right)} - \\left(- c_{y} + y\\right) \\sin{\\left(\\omega_{z} t \\right)} \\cos{\\left(\\omega_{y} t \\right)} + \\left(- c_{z} + z\\right) \\sin{\\left(\\omega_{y} t \\right)}\\\\c_{y} - y + \\left(- c_{x} + x\\right) \\left(\\sin{\\left(\\omega_{x} t \\right)} \\sin{\\left(\\omega_{y} t \\right)} \\cos{\\left(\\omega_{z} t \\right)} + \\sin{\\left(\\omega_{z} t \\right)} \\cos{\\left(\\omega_{x} t \\right)}\\right) + \\left(- c_{y} + y\\right) \\left(- \\sin{\\left(\\omega_{x} t \\right)} \\sin{\\left(\\omega_{y} t \\right)} \\sin{\\left(\\omega_{z} t \\right)} + \\cos{\\left(\\omega_{x} t \\right)} \\cos{\\left(\\omega_{z} t \\right)}\\right) - \\left(- c_{z} + z\\right) \\sin{\\left(\\omega_{x} t \\right)} \\cos{\\left(\\omega_{y} t \\right)}\\\\c_{z} - z + \\left(- c_{x} + x\\right) \\left(\\sin{\\left(\\omega_{x} t \\right)} \\sin{\\left(\\omega_{z} t \\right)} - \\sin{\\left(\\omega_{y} t \\right)} \\cos{\\left(\\omega_{x} t \\right)} \\cos{\\left(\\omega_{z} t \\right)}\\right) + \\left(- c_{y} + y\\right) \\left(\\sin{\\left(\\omega_{x} t \\right)} \\cos{\\left(\\omega_{z} t \\right)} + \\sin{\\left(\\omega_{y} t \\right)} \\sin{\\left(\\omega_{z} t \\right)} \\cos{\\left(\\omega_{x} t \\right)}\\right) + \\left(- c_{z} + z\\right) \\cos{\\left(\\omega_{x} t \\right)} \\cos{\\left(\\omega_{y} t \\right)}\\end{matrix}\\right]$"
               ],
               "text/plain": [
                  "Matrix([\n",
                  "[                                                                                                                  c_x - x + (-c_x + x)*cos(omega_y*t)*cos(omega_z*t) - (-c_y + y)*sin(omega_z*t)*cos(omega_y*t) + (-c_z + z)*sin(omega_y*t)],\n",
                  "[c_y - y + (-c_x + x)*(sin(omega_x*t)*sin(omega_y*t)*cos(omega_z*t) + sin(omega_z*t)*cos(omega_x*t)) + (-c_y + y)*(-sin(omega_x*t)*sin(omega_y*t)*sin(omega_z*t) + cos(omega_x*t)*cos(omega_z*t)) - (-c_z + z)*sin(omega_x*t)*cos(omega_y*t)],\n",
                  "[ c_z - z + (-c_x + x)*(sin(omega_x*t)*sin(omega_z*t) - sin(omega_y*t)*cos(omega_x*t)*cos(omega_z*t)) + (-c_y + y)*(sin(omega_x*t)*cos(omega_z*t) + sin(omega_y*t)*sin(omega_z*t)*cos(omega_x*t)) + (-c_z + z)*cos(omega_x*t)*cos(omega_y*t)]])"
               ]
            },
            "metadata": {},
            "output_type": "display_data"
         }],
         "source": [
            "Rx = numpy.array([\n",
            "    [1, 0, 0],\n",
            "    [0, sympy.cos(omega_x*t), -sympy.sin(omega_x*t)],\n",
            "    [0, sympy.sin(omega_x*t), sympy.cos(omega_x*t)]\n",
            "])\n",
            "\n",
            "Ry = numpy.array([\n",
            "    [sympy.cos(omega_y*t), 0, sympy.sin(omega_y*t)],\n",
            "    [0, 1, 0],\n",
            "    [-sympy.sin(omega_y*t), 0, sympy.cos(omega_y*t)]\n",
            "])\n",
            "\n",
            "Rz = numpy.array([\n",
            "    [sympy.cos(omega_z*t), -sympy.sin(omega_z*t), 0],\n",
            "    [sympy.sin(omega_z*t), sympy.cos(omega_z*t), 0],\n",
            "    [0, 0, 1]\n",
            "])\n",
            "\n",
            "R = Rx @ Ry @ Rz\n",
            "\n",
            "c = numpy.array([c_x, c_y, c_z])\n",
            "pos = numpy.array([x, y, z])\n",
            "disp = R @ (pos - c) + c - pos\n",
            "\n",
            "display(sympy.Matrix(disp))"
         ]
      },
      {
         "cell_type": "code",
         "execution_count": 5,
         "metadata": {},
         "outputs": [],
         "source": [
            "def print_obstacle_displacement(omega, c):\n",
            "    print(\"[\")\n",
            "    subs = {\n",
            "        omega_x: deg2rad(omega[0]),\n",
            "        omega_y: deg2rad(omega[1]),\n",
            "        omega_z: deg2rad(omega[2]),\n",
            "        c_x: c[0],\n",
            "        c_y: c[1],\n",
            "        c_z: c[2],\n",
            "    }\n",
            "    for i, d in enumerate(disp):\n",
            "        expr = d.subs(subs).simplify()\n",
            "        expr_str = str(expr) if expr.is_constant() else f\"\\\"{str(expr).replace('**', '^')}\\\"\"\n",
            "        print(\"{}{}\".format(expr_str, \",\" if i < len(disp) - 1 else \"\"))\n",
            "    print(\"]\")"
         ]
      },
      {
         "cell_type": "code",
         "execution_count": 6,
         "metadata": {},
         "outputs": [{
            "name": "stdout",
            "output_type": "stream",
            "text": [
               "[\n",
               "\"-x + y*sin(pi*t/5) + (x + 0.35)*cos(pi*t/5) - 0.35\",\n",
               "\"y*cos(pi*t/5) - y - (x + 0.35)*sin(pi*t/5)\",\n",
               "0\n",
               "]\n",
               "\n",
               "[\n",
               "\"-x - y*sin(pi*t/5) + (x - 0.35)*cos(pi*t/5) + 0.35\",\n",
               "\"y*cos(pi*t/5) - y + (x - 0.35)*sin(pi*t/5)\",\n",
               "0\n",
               "]\n"
            ]
         }],
         "source": [
            "print_obstacle_displacement([0, 0, -36], [-0.35, 0, 0])\n",
            "print()\n",
            "print_obstacle_displacement([0, 0, 36], [0.35, 0, 0])"
         ]
      },
      {
         "cell_type": "code",
         "execution_count": 7,
         "metadata": {},
         "outputs": [{
            "name": "stdout",
            "output_type": "stream",
            "text": [
               "[\n",
               "\"x*cos(3.80952380952381*pi*t) - x + z*sin(3.80952380952381*pi*t)\",\n",
               "\"0\",\n",
               "\"-x*sin(3.80952380952381*pi*t) + z*cos(3.80952380952381*pi*t) - z\"\n",
               "]\n"
            ]
         }],
         "source": [
            "print_obstacle_displacement([0, 360/0.525, 0], [0, 0.1, 0])"
         ]
      },
      {
         "cell_type": "code",
         "execution_count": 12,
         "metadata": {},
         "outputs": [{
            "name": "stdout",
            "output_type": "stream",
            "text": [
               "[\n",
               "\"0\",\n",
               "\"y*cos(pi*t/9) - y - z*sin(pi*t/9)\",\n",
               "\"y*sin(pi*t/9) + z*cos(pi*t/9) - z\"\n",
               "]\n"
            ]
         }],
         "source": [
            "print_obstacle_displacement([20, 0, 0], [0, 0, 0])"
         ]
      },
      {
         "cell_type": "code",
         "execution_count": null,
         "metadata": {},
         "outputs": [],
         "source": []
      }
   ],
   "metadata": {
      "kernelspec": {
         "display_name": "Python 3.10.6 64-bit",
         "language": "python",
         "name": "python3"
      },
      "language_info": {
         "codemirror_mode": {
            "name": "ipython",
            "version": 3
         },
         "file_extension": ".py",
         "mimetype": "text/x-python",
         "name": "python",
         "nbconvert_exporter": "python",
         "pygments_lexer": "ipython3",
         "version": "3.11.2"
      },
      "orig_nbformat": 4,
      "vscode": {
         "interpreter": {
            "hash": "e7370f93d1d0cde622a1f8e1c04877d8463912d04d973331ad4851f04de6915a"
         }
      }
   },
   "nbformat": 4,
   "nbformat_minor": 2
}